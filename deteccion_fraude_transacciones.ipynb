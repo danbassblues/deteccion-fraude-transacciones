{
 "cells": [
  {
   "cell_type": "markdown",
   "id": "b785ff44-4e1d-4220-8c47-2836e09c8a36",
   "metadata": {},
   "source": [
    "# Detección de Fraudes en Transacciones Financieras\n",
    "\n",
    "**Materia**: Herramientas para el Almacenamiento de Grandes Volúmenes  \n",
    "**Estudiante**: Daniel Cureño Martínez  \n",
    "**Semestre**: 5to  \n",
    "**Fecha**: 24 de septiembre de 2025\n",
    "\n"
   ]
  },
  {
   "cell_type": "markdown",
   "id": "8ce9c6d2",
   "metadata": {},
   "source": [
    "## Objetivo\n",
    "Identificar transacciones potencialmente fraudulentas aplicando reglas de negocio predefinidas, independientemente de la divisa."
   ]
  },
  {
   "cell_type": "code",
   "execution_count": 1,
   "id": "a2f1ea42-0ae5-479e-a0a9-5741a40e7cc4",
   "metadata": {},
   "outputs": [],
   "source": [
    "# Importar librerías necesarias\n",
    "import pandas as pd\n",
    "import matplotlib.pyplot as plt\n",
    "import seaborn as sns\n",
    "\n",
    "# Confihuración estilos y opciones de visualización\n",
    "plt.style.use('seaborn-v0_8')\n",
    "sns.set_palette(\"Set2\")\n",
    "pd.set_option('display.max_columns', None)"
   ]
  },
  {
   "cell_type": "markdown",
   "id": "99c291fc-d3e4-4f34-96b6-7ebc769a5043",
   "metadata": {},
   "source": [
    "## Carga de datos\n",
    "Cargamos el archivo CSV con las transacciones simuladas y mostramos las primeras filas para verificar la estructura."
   ]
  },
  {
   "cell_type": "code",
   "execution_count": 2,
   "id": "dd5d5cae-bb5d-4d89-8c81-71e73a3865e6",
   "metadata": {},
   "outputs": [
    {
     "data": {
      "text/html": [
       "<div>\n",
       "<style scoped>\n",
       "    .dataframe tbody tr th:only-of-type {\n",
       "        vertical-align: middle;\n",
       "    }\n",
       "\n",
       "    .dataframe tbody tr th {\n",
       "        vertical-align: top;\n",
       "    }\n",
       "\n",
       "    .dataframe thead th {\n",
       "        text-align: right;\n",
       "    }\n",
       "</style>\n",
       "<table border=\"1\" class=\"dataframe\">\n",
       "  <thead>\n",
       "    <tr style=\"text-align: right;\">\n",
       "      <th></th>\n",
       "      <th>id_transaccion</th>\n",
       "      <th>id_cliente</th>\n",
       "      <th>nombre_cliente</th>\n",
       "      <th>cuenta_origen</th>\n",
       "      <th>fecha</th>\n",
       "      <th>monto</th>\n",
       "      <th>divisa</th>\n",
       "      <th>tipo_transaccion</th>\n",
       "      <th>ciudad</th>\n",
       "      <th>cuenta_destino</th>\n",
       "      <th>categoria_comercio</th>\n",
       "    </tr>\n",
       "  </thead>\n",
       "  <tbody>\n",
       "    <tr>\n",
       "      <th>0</th>\n",
       "      <td>1</td>\n",
       "      <td>2783</td>\n",
       "      <td>Philip Knight</td>\n",
       "      <td>ES72380307822087479772</td>\n",
       "      <td>13/09/2025</td>\n",
       "      <td>31551.32</td>\n",
       "      <td>USD</td>\n",
       "      <td>transferencia</td>\n",
       "      <td>Queretaro</td>\n",
       "      <td>ES19946920183191759474</td>\n",
       "      <td>NaN</td>\n",
       "    </tr>\n",
       "    <tr>\n",
       "      <th>1</th>\n",
       "      <td>2</td>\n",
       "      <td>3696</td>\n",
       "      <td>William Harmon</td>\n",
       "      <td>ES74956814146097211403</td>\n",
       "      <td>16/09/2025</td>\n",
       "      <td>36889.11</td>\n",
       "      <td>MXN</td>\n",
       "      <td>retiro</td>\n",
       "      <td>Juarez</td>\n",
       "      <td>NaN</td>\n",
       "      <td>NaN</td>\n",
       "    </tr>\n",
       "    <tr>\n",
       "      <th>2</th>\n",
       "      <td>3</td>\n",
       "      <td>6403</td>\n",
       "      <td>Amanda Lewis</td>\n",
       "      <td>ES94278160534459740595</td>\n",
       "      <td>04/07/2025</td>\n",
       "      <td>30644.10</td>\n",
       "      <td>MXN</td>\n",
       "      <td>retiro</td>\n",
       "      <td>Paris</td>\n",
       "      <td>NaN</td>\n",
       "      <td>NaN</td>\n",
       "    </tr>\n",
       "    <tr>\n",
       "      <th>3</th>\n",
       "      <td>4</td>\n",
       "      <td>1156</td>\n",
       "      <td>Victoria Burton</td>\n",
       "      <td>ES18259905541180196560</td>\n",
       "      <td>06/09/2025</td>\n",
       "      <td>7869.29</td>\n",
       "      <td>USD</td>\n",
       "      <td>retiro</td>\n",
       "      <td>Juarez</td>\n",
       "      <td>NaN</td>\n",
       "      <td>NaN</td>\n",
       "    </tr>\n",
       "    <tr>\n",
       "      <th>4</th>\n",
       "      <td>5</td>\n",
       "      <td>2653</td>\n",
       "      <td>Todd Young</td>\n",
       "      <td>ES59522414203568104424</td>\n",
       "      <td>03/04/2025</td>\n",
       "      <td>37940.37</td>\n",
       "      <td>MXN</td>\n",
       "      <td>retiro</td>\n",
       "      <td>Puebla</td>\n",
       "      <td>NaN</td>\n",
       "      <td>NaN</td>\n",
       "    </tr>\n",
       "  </tbody>\n",
       "</table>\n",
       "</div>"
      ],
      "text/plain": [
       "   id_transaccion  id_cliente   nombre_cliente           cuenta_origen  \\\n",
       "0               1        2783    Philip Knight  ES72380307822087479772   \n",
       "1               2        3696   William Harmon  ES74956814146097211403   \n",
       "2               3        6403     Amanda Lewis  ES94278160534459740595   \n",
       "3               4        1156  Victoria Burton  ES18259905541180196560   \n",
       "4               5        2653       Todd Young  ES59522414203568104424   \n",
       "\n",
       "        fecha     monto divisa tipo_transaccion     ciudad  \\\n",
       "0  13/09/2025  31551.32    USD    transferencia  Queretaro   \n",
       "1  16/09/2025  36889.11    MXN           retiro     Juarez   \n",
       "2  04/07/2025  30644.10    MXN           retiro      Paris   \n",
       "3  06/09/2025   7869.29    USD           retiro     Juarez   \n",
       "4  03/04/2025  37940.37    MXN           retiro     Puebla   \n",
       "\n",
       "           cuenta_destino categoria_comercio  \n",
       "0  ES19946920183191759474                NaN  \n",
       "1                     NaN                NaN  \n",
       "2                     NaN                NaN  \n",
       "3                     NaN                NaN  \n",
       "4                     NaN                NaN  "
      ]
     },
     "execution_count": 2,
     "metadata": {},
     "output_type": "execute_result"
    }
   ],
   "source": [
    "# Cargar el DataSet\n",
    "df = pd.read_csv('transacciones_simuladas.csv')\n",
    "# Mostrar las primeras filas\n",
    "df.head()"
   ]
  },
  {
   "cell_type": "markdown",
   "id": "afec898c-f5ab-4c40-be50-0aa723c793bb",
   "metadata": {},
   "source": [
    "## Preprocesamiento\n",
    "- Conversión de la columna monto a tipo numérico.\n",
    "- Definición de ciudades mexicanas para identificar operaciones en el extranjero (extendida con ciudades comunes en México).\n",
    "- Creación de la bandera es_extranjera (con manejo case-insensitive para robustez).\n",
    "- Reemplazo de NaN en categoria_comercio por cadena vacía para evitar errores en comparaciones."
   ]
  },
  {
   "cell_type": "code",
   "execution_count": 4,
   "id": "07909786-7b50-4aaa-8306-f4d93222c392",
   "metadata": {},
   "outputs": [
    {
     "name": "stdout",
     "output_type": "stream",
     "text": [
      "Ciudades extranjeras detectadas: ['paris' 'madrid' 'brasil' 'barcelona' 'los angeles' 'sidney' 'london'\n",
      " 'bogota' 'boston' 'new york' 'buenos aires' 'montreal' 'israel' 'cali'\n",
      " 'india' 'china' 'nigeria' 'ucrania' 'peru' 'libia' 'texas' 'milan'\n",
      " 'moscu']\n"
     ]
    }
   ],
   "source": [
    "# Convertir monto a numérico\n",
    "df['monto'] = pd.to_numeric(df['monto'], errors='coerce')\n",
    "\n",
    "# Lista de ciudades mexicanas (case-insensitive)\n",
    "ciudades_mexicanas = {\n",
    "'Queretaro', 'Juarez', 'Monterrey', 'Puebla', 'Merida', 'Leon', 'Torreon',\n",
    "'CDMX', 'Guadalajara', 'Tijuana', 'Hermosillo', 'Cancun', 'Veracruz',\n",
    "'Oaxaca', 'Chihuahua'\n",
    "}\n",
    "\n",
    "df['ciudad'] = df['ciudad'].str.lower() # Convertir a minúsculas para matching\n",
    "df['es_extranjera'] = ~df['ciudad'].isin([c.lower() for c in ciudades_mexicanas])\n",
    "\n",
    "# Reemplazar NaN en categoria_comercio\n",
    "df['categoria_comercio'] = df['categoria_comercio'].fillna('')\n",
    "\n",
    "# Imprimir ciudades extranjeras detectadas\n",
    "print(\"Ciudades extranjeras detectadas:\", df[df['es_extranjera']]['ciudad'].unique())"
   ]
  },
  {
   "cell_type": "markdown",
   "id": "0651a095-204e-47df-af70-287f07344c2a",
   "metadata": {},
   "source": [
    "## Aplicación de reglas de fraude\n",
    "\n",
    "Se implementan las 4 reglas del enunciado:\n",
    "\n",
    "1. **Regla 1**: `monto > 45000`\n",
    "   \n",
    "2. **Regla 2**: `retiro` en ciudad extranjera y `monto > 25000`\n",
    "   \n",
    "3. **Regla 3**: `transferencia` y (`monto > 30000` **o** `ciudad extranjera`)\n",
    "   \n",
    "4. **Regla 4**: `compra` en categoría `\"viajes\"` y `monto > 35000`\n",
    "\n",
    "Calculamos el total de fraudes y el conteo por regla (considerando overlaps)."
   ]
  },
  {
   "cell_type": "code",
   "execution_count": 7,
   "id": "61ab4087-5bf1-426d-b92e-dd6a1857d001",
   "metadata": {},
   "outputs": [
    {
     "name": "stdout",
     "output_type": "stream",
     "text": [
      "Total de fraudes detectados: 2075\n",
      "Regla 1 (monto > 45,000): 990\n",
      "Regla 2 (retiro en extranjero > 25k): 10\n",
      "Regla 3 (transferencia en extranjero o > 30k): 1301\n",
      "Regla 4 (compra en 'viajes' > 35k): 158\n"
     ]
    }
   ],
   "source": [
    "# Definir las reglas\n",
    "regla1 = df['monto'] > 45000\n",
    "regla2 = (df['tipo_transaccion'] == 'retiro') & df['es_extranjera'] & (df['monto'] > 25000)\n",
    "regla3 = (df['tipo_transaccion'] == 'transferencia') & ((df['monto'] > 30000) | df['es_extranjera'])\n",
    "regla4 = (df['tipo_transaccion'] == 'compra') & (df['categoria_comercio'] == 'viajes') & (df['monto'] > 35000)\n",
    "\n",
    "# Crear columna de fraude\n",
    "df['es_fraude'] = regla1 | regla2 | regla3 | regla4\n",
    "\n",
    "# Calcular fraudes únicos por regla (sin contar overlaps en otros)\n",
    "fraudes_regla1 = df[regla1 & ~(regla2 | regla3 | regla4)]['es_fraude'].sum()\n",
    "fraudes_regla2 = df[regla2 & ~(regla1 | regla3 | regla4)]['es_fraude'].sum()\n",
    "fraudes_regla3 = df[regla3 & ~(regla1 | regla2 | regla4)]['es_fraude'].sum()\n",
    "fraudes_regla4 = df[regla4 & ~(regla1 | regla2 | regla3)]['es_fraude'].sum()\n",
    "\n",
    "# Total general\n",
    "total_fraudes = df['es_fraude'].sum()\n",
    "\n",
    "# Imprimir resultados\n",
    "print(f\"Total de fraudes detectados: {total_fraudes}\")\n",
    "print(f\"Regla 1 (monto > 45,000): {regla1.sum()}\")\n",
    "print(f\"Regla 2 (retiro en extranjero > 25k): {regla2.sum()}\")\n",
    "print(f\"Regla 3 (transferencia en extranjero o > 30k): {regla3.sum()}\")\n",
    "print(f\"Regla 4 (compra en 'viajes' > 35k): {regla4.sum()}\")"
   ]
  },
  {
   "cell_type": "markdown",
   "id": "a5c7ff1e-b7f1-4772-bab8-feccf682eec6",
   "metadata": {},
   "source": [
    "## Visualización: Fraudes por tipo de transacción\n",
    "    Visualizamos la cantidad de fraudes por tipo de transacción, con etiquetas numéricas para mayor claridad. "
   ]
  },
  {
   "cell_type": "code",
   "execution_count": 12,
   "id": "a183e2e4-a959-415d-a418-f49fb47de31d",
   "metadata": {},
   "outputs": [
    {
     "data": {
      "image/png": "[encoded data removed]",
      "text/plain": [
       "<Figure size 800x500 with 1 Axes>"
      ]
     },
     "metadata": {},
     "output_type": "display_data"
    }
   ],
   "source": [
    "# Filtrar solo las transacciones fraudulentas\n",
    "fraudes = df[df['es_fraude']]\n",
    "\n",
    "# Crear gráfico de barras\n",
    "plt.figure(figsize=(8, 5))\n",
    "ax = sns.countplot(data=fraudes, x='tipo_transaccion', palette='viridis')\n",
    "plt.title('Fraudes por tipo de transacción', fontsize=14)\n",
    "plt.xlabel('Tipo de transacción')\n",
    "plt.ylabel('Cantidad')\n",
    "\n",
    "# Añadir etiquetas numéricas a las barras\n",
    "for p in ax.patches:\n",
    "    ax.annotate(f'{int(p.get_height())}', (p.get_x() + p.get_width() / 2., p.get_height()),\n",
    "                ha='center', va='bottom')\n",
    "\n",
    "plt.tight_layout()\n",
    "plt.show()"
   ]
  },
  {
   "cell_type": "markdown",
   "id": "af0aaa87-3b14-4944-b125-1e694068f1fe",
   "metadata": {},
   "source": [
    "## Visualización: Distribución de fraudes por regla\n",
    "\n",
    "Gráfico de pastel para mostrar la contribución relativa de cada regla (basado en conteos totales por regla)."
   ]
  },
  {
   "cell_type": "code",
   "execution_count": 13,
   "id": "6dd5c8af-0f78-42a3-8d56-247d7825de67",
   "metadata": {},
   "outputs": [
    {
     "data": {
      "image/png": "[encoded data removed]",
      "text/plain": [
       "<Figure size 700x700 with 1 Axes>"
      ]
     },
     "metadata": {},
     "output_type": "display_data"
    }
   ],
   "source": [
    "# Conteos por regla\n",
    "regla_counts = [regla1.sum(), regla2.sum(), regla3.sum(), regla4.sum()]\n",
    "regla_labels = ['Regla 1 (monto > 45k)', 'Regla 2 (retiro extranjero)',\n",
    "'Regla 3 (transferencia)', 'Regla 4 (viajes)']\n",
    "\n",
    "# Gráfico de pastel\n",
    "plt.figure(figsize=(7, 7))\n",
    "plt.pie(regla_counts, labels=regla_labels, autopct='%1.1f%%', startangle=90,\n",
    "wedgeprops=dict(width=0.3), colors=sns.color_palette('Set2'))\n",
    "plt.title('Distribución de fraudes por regla', fontsize=14)\n",
    "plt.axis('equal')\n",
    "plt.show()"
   ]
  },
  {
   "cell_type": "markdown",
   "id": "4cdd5038-e362-4b3a-a189-c23b6ad32b6c",
   "metadata": {},
   "source": [
    "## Resultados: Transacciones fraudulentas\n",
    "Mostramos las primeras y últimas 10 transacciones fraudulentas, junto con estadísticas básicas de los montos"
   ]
  },
  {
   "cell_type": "code",
   "execution_count": 14,
   "id": "7ca02c03-1ed1-4363-a75e-2cf4a4915065",
   "metadata": {},
   "outputs": [
    {
     "name": "stdout",
     "output_type": "stream",
     "text": [
      "Primeras 10 transacciones fraudulentas:\n",
      "    id_transaccion     monto tipo_transaccion     ciudad categoria_comercio\n",
      "0                1  31551.32    transferencia  queretaro                   \n",
      "2                3  30644.10           retiro      paris                   \n",
      "8                9  41811.10    transferencia     merida                   \n",
      "9               10  37271.83    transferencia     puebla                   \n",
      "11              12  35360.16    transferencia       leon                   \n",
      "12              13  48471.27    transferencia  monterrey                   \n",
      "13              14  48485.84           compra  queretaro        restaurante\n",
      "18              19  49904.69           retiro    torreon                   \n",
      "20              21  49727.53           retiro    tijuana                   \n",
      "29              30  39122.25    transferencia  queretaro                   \n",
      "\n",
      "Últimas 10 transacciones fraudulentas:\n",
      "      id_transaccion     monto tipo_transaccion       ciudad  \\\n",
      "9945            9946  45547.82           retiro         cdmx   \n",
      "9954            9955  40547.18    transferencia       juarez   \n",
      "9957            9958  45926.29    transferencia      tijuana   \n",
      "9963            9964  48264.94    transferencia    monterrey   \n",
      "9964            9965  33143.85    transferencia         cdmx   \n",
      "9966            9967  43362.94    transferencia  guadalajara   \n",
      "9967            9968  38800.11    transferencia       puebla   \n",
      "9974            9975  30203.27    transferencia         cdmx   \n",
      "9981            9982  47405.66           compra         cdmx   \n",
      "9994            9995  45492.74           retiro       merida   \n",
      "\n",
      "     categoria_comercio  \n",
      "9945                     \n",
      "9954                     \n",
      "9957                     \n",
      "9963                     \n",
      "9964                     \n",
      "9966                     \n",
      "9967                     \n",
      "9974                     \n",
      "9981        restaurante  \n",
      "9994                     \n",
      "\n",
      "Estadísticas básicas de montos fraudulentos:\n",
      "count     2075.000000\n",
      "mean     42420.692723\n",
      "std       6003.177361\n",
      "min       2854.430000\n",
      "25%      37803.980000\n",
      "50%      44399.040000\n",
      "75%      47333.755000\n",
      "max      49995.630000\n",
      "Name: monto, dtype: float64\n"
     ]
    }
   ],
   "source": [
    "# Mostrar primeras y últimas 10 transacciones fraudulentas\n",
    "print(\"Primeras 10 transacciones fraudulentas:\")\n",
    "print(fraudes[['id_transaccion', 'monto', 'tipo_transaccion', 'ciudad', 'categoria_comercio']].head(10))\n",
    "print(\"\\nÚltimas 10 transacciones fraudulentas:\")\n",
    "print(fraudes[['id_transaccion', 'monto', 'tipo_transaccion', 'ciudad', 'categoria_comercio']].tail(10))\n",
    "\n",
    "# Estadísticas de montos fraudulentos\n",
    "print(\"\\nEstadísticas básicas de montos fraudulentos:\")\n",
    "print(fraudes['monto'].describe())"
   ]
  },
  {
   "cell_type": "markdown",
   "id": "cdfc3844-984e-4f1e-aa91-c6ba14d2574a",
   "metadata": {},
   "source": [
    "## Análisis por regla de detección\n",
    "\n",
    "A continuación, se muestra cuántos fraudes activó cada regla (una transacción puede activar más de una)."
   ]
  },
  {
   "cell_type": "code",
   "execution_count": 15,
   "id": "9a927619-cfeb-48a3-9477-582b7f8992d8",
   "metadata": {},
   "outputs": [
    {
     "name": "stdout",
     "output_type": "stream",
     "text": [
      "Regla 1 (monto > 45,000): 990\n",
      "Regla 2 (retiro en extranjero > 25k): 10\n",
      "Regla 3 (transferencia en extranjero o > 30k): 1301\n",
      "Regla 4 (compra en 'viajes' > 35k): 158\n"
     ]
    }
   ],
   "source": [
    "# Imprimir conteos totales por regla\n",
    "print(f\"Regla 1 (monto > 45,000): {regla1.sum()}\")\n",
    "print(f\"Regla 2 (retiro en extranjero > 25k): {regla2.sum()}\")\n",
    "print(f\"Regla 3 (transferencia en extranjero o > 30k): {regla3.sum()}\")\n",
    "print(f\"Regla 4 (compra en 'viajes' > 35k): {regla4.sum()}\")"
   ]
  },
  {
   "cell_type": "markdown",
   "id": "61c0a06e-cb28-4f3d-a1e7-c1e7545ff5d7",
   "metadata": {},
   "source": [
    "## Conclusiones\n",
    "\n",
    "- Se detectaron 2,075 transacciones fraudulentas, con la mayoría activadas por la Regla 3 (transferencias > 30k o extranjeras), que contribuyó con 1,301 casos.\n",
    "\n",
    "- La Regla 3 incluye transferencias desde ciudades extranjeras con montos bajos, lo que genera un alto número de detecciones y potenciales falsos positivos. Se recomienda ajustar el umbral de monto o validar manualmente estos casos.\n",
    "\n",
    "- La Regla 4 detectó 158 fraudes en la categoría 'viajes' con montos > 35k, corrigiendo la suposición inicial de ausencia de esta categoría.\n",
    "\n",
    "- El enfoque basado en reglas es efectivo para escenarios predefinidos, pero para grandes volúmenes, se sugiere integrar modelos predictivos (ej. Random Forest) y usar herramientas como Apache Spark para escalabilidad.\n",
    "\n",
    "- Este análisis refleja comprensión técnica y crítica, con propuestas para mejorar la precisión en la detección de fraudes."
   ]
  },
  {
   "cell_type": "code",
   "execution_count": null,
   "id": "c82c5caf-52e0-4b65-be64-1bfb376df9d8",
   "metadata": {},
   "outputs": [],
   "source": []
  }
 ],
 "metadata": {
  "kernelspec": {
   "display_name": "Python [conda env:base] *",
   "language": "python",
   "name": "conda-base-py"
  },
  "language_info": {
   "codemirror_mode": {
    "name": "ipython",
    "version": 3
   },
   "file_extension": ".py",
   "mimetype": "text/x-python",
   "name": "python",
   "nbconvert_exporter": "python",
   "pygments_lexer": "ipython3",
   "version": "3.11.7"
  }
 },
 "nbformat": 4,
 "nbformat_minor": 5
}
