{
 "cells": [
  {
   "cell_type": "markdown",
   "id": "35028e60-7b40-4f54-9c5d-e029da82129e",
   "metadata": {},
   "source": [
    "# Actividad 26 de septiembre de 2025\n",
    "\n",
    "**Materia**: Herramientas para el Almacenamiento de Grandes Volúmenes  \n",
    "**Estudiante**: Daniel Cureño Martínez  \n",
    "**Semestre**: 5to\n",
    "\n",
    "## Objetivo\n",
    "Responder las siguientes preguntas usando el conjunto de datos de transacciones financieras."
   ]
  },
  {
   "cell_type": "code",
   "execution_count": 1,
   "id": "aa88a402-dfd9-41bd-9f69-5f113c5756cf",
   "metadata": {},
   "outputs": [],
   "source": [
    "import pandas as pd\n",
    "\n",
    "# Configuración básica\n",
    "pd.set_option('display.max_columns', None)\n",
    "pd.set_option('display.width', 1000)"
   ]
  },
  {
   "cell_type": "markdown",
   "id": "e735b24a-b75c-45f7-9577-b2d68be58c98",
   "metadata": {},
   "source": [
    "## Carga de datos"
   ]
  },
  {
   "cell_type": "code",
   "execution_count": 3,
   "id": "f6d7f59a-e023-4890-b907-c7a53a892132",
   "metadata": {},
   "outputs": [
    {
     "data": {
      "text/html": [
       "<div>\n",
       "<style scoped>\n",
       "    .dataframe tbody tr th:only-of-type {\n",
       "        vertical-align: middle;\n",
       "    }\n",
       "\n",
       "    .dataframe tbody tr th {\n",
       "        vertical-align: top;\n",
       "    }\n",
       "\n",
       "    .dataframe thead th {\n",
       "        text-align: right;\n",
       "    }\n",
       "</style>\n",
       "<table border=\"1\" class=\"dataframe\">\n",
       "  <thead>\n",
       "    <tr style=\"text-align: right;\">\n",
       "      <th></th>\n",
       "      <th>id_transaccion</th>\n",
       "      <th>id_cliente</th>\n",
       "      <th>nombre_cliente</th>\n",
       "      <th>cuenta_origen</th>\n",
       "      <th>fecha</th>\n",
       "      <th>monto</th>\n",
       "      <th>divisa</th>\n",
       "      <th>tipo_transaccion</th>\n",
       "      <th>ciudad</th>\n",
       "      <th>cuenta_destino</th>\n",
       "      <th>categoria_comercio</th>\n",
       "      <th>es_extranjera</th>\n",
       "    </tr>\n",
       "  </thead>\n",
       "  <tbody>\n",
       "    <tr>\n",
       "      <th>0</th>\n",
       "      <td>1</td>\n",
       "      <td>2783</td>\n",
       "      <td>Philip Knight</td>\n",
       "      <td>ES72380307822087479772</td>\n",
       "      <td>13/09/2025</td>\n",
       "      <td>31551.32</td>\n",
       "      <td>USD</td>\n",
       "      <td>transferencia</td>\n",
       "      <td>Queretaro</td>\n",
       "      <td>ES19946920183191759474</td>\n",
       "      <td>NaN</td>\n",
       "      <td>False</td>\n",
       "    </tr>\n",
       "    <tr>\n",
       "      <th>1</th>\n",
       "      <td>2</td>\n",
       "      <td>3696</td>\n",
       "      <td>William Harmon</td>\n",
       "      <td>ES74956814146097211403</td>\n",
       "      <td>16/09/2025</td>\n",
       "      <td>36889.11</td>\n",
       "      <td>MXN</td>\n",
       "      <td>retiro</td>\n",
       "      <td>Juarez</td>\n",
       "      <td>NaN</td>\n",
       "      <td>NaN</td>\n",
       "      <td>False</td>\n",
       "    </tr>\n",
       "    <tr>\n",
       "      <th>2</th>\n",
       "      <td>3</td>\n",
       "      <td>6403</td>\n",
       "      <td>Amanda Lewis</td>\n",
       "      <td>ES94278160534459740595</td>\n",
       "      <td>04/07/2025</td>\n",
       "      <td>30644.10</td>\n",
       "      <td>MXN</td>\n",
       "      <td>retiro</td>\n",
       "      <td>Paris</td>\n",
       "      <td>NaN</td>\n",
       "      <td>NaN</td>\n",
       "      <td>True</td>\n",
       "    </tr>\n",
       "    <tr>\n",
       "      <th>3</th>\n",
       "      <td>4</td>\n",
       "      <td>1156</td>\n",
       "      <td>Victoria Burton</td>\n",
       "      <td>ES18259905541180196560</td>\n",
       "      <td>06/09/2025</td>\n",
       "      <td>7869.29</td>\n",
       "      <td>USD</td>\n",
       "      <td>retiro</td>\n",
       "      <td>Juarez</td>\n",
       "      <td>NaN</td>\n",
       "      <td>NaN</td>\n",
       "      <td>False</td>\n",
       "    </tr>\n",
       "    <tr>\n",
       "      <th>4</th>\n",
       "      <td>5</td>\n",
       "      <td>2653</td>\n",
       "      <td>Todd Young</td>\n",
       "      <td>ES59522414203568104424</td>\n",
       "      <td>03/04/2025</td>\n",
       "      <td>37940.37</td>\n",
       "      <td>MXN</td>\n",
       "      <td>retiro</td>\n",
       "      <td>Puebla</td>\n",
       "      <td>NaN</td>\n",
       "      <td>NaN</td>\n",
       "      <td>False</td>\n",
       "    </tr>\n",
       "  </tbody>\n",
       "</table>\n",
       "</div>"
      ],
      "text/plain": [
       "   id_transaccion  id_cliente   nombre_cliente           cuenta_origen       fecha     monto divisa tipo_transaccion     ciudad          cuenta_destino categoria_comercio  es_extranjera\n",
       "0               1        2783    Philip Knight  ES72380307822087479772  13/09/2025  31551.32    USD    transferencia  Queretaro  ES19946920183191759474                NaN          False\n",
       "1               2        3696   William Harmon  ES74956814146097211403  16/09/2025  36889.11    MXN           retiro     Juarez                     NaN                NaN          False\n",
       "2               3        6403     Amanda Lewis  ES94278160534459740595  04/07/2025  30644.10    MXN           retiro      Paris                     NaN                NaN           True\n",
       "3               4        1156  Victoria Burton  ES18259905541180196560  06/09/2025   7869.29    USD           retiro     Juarez                     NaN                NaN          False\n",
       "4               5        2653       Todd Young  ES59522414203568104424  03/04/2025  37940.37    MXN           retiro     Puebla                     NaN                NaN          False"
      ]
     },
     "execution_count": 3,
     "metadata": {},
     "output_type": "execute_result"
    }
   ],
   "source": [
    "df = pd.read_csv('transacciones_simuladas.csv')\n",
    "df['monto'] = pd.to_numeric(df['monto'], errors='coerce')\n",
    "\n",
    "# Definir ciudades mexicanas\n",
    "ciudades_mexicanas = {\n",
    "    'Queretaro', 'Juarez', 'Monterrey', 'Puebla', 'Merida',\n",
    "    'Leon', 'Torreon', 'CDMX', 'Guadalajara', 'Tijuana',\n",
    "    'Hermosillo', 'Cancun', 'Veracruz', 'Oaxaca', 'Chihuahua'\n",
    "}\n",
    "df['es_extranjera'] = ~df['ciudad'].isin(ciudades_mexicanas)\n",
    "\n",
    "df.head()"
   ]
  },
  {
   "cell_type": "markdown",
   "id": "0c03422c-22e8-487e-918e-3fd93c12f50a",
   "metadata": {},
   "source": [
    "### 1. Agrupar los datos por tipo de transacción    "
   ]
  },
  {
   "cell_type": "code",
   "execution_count": 4,
   "id": "2d350b2c-fb5a-435a-a063-a9988de3a2cb",
   "metadata": {},
   "outputs": [
    {
     "data": {
      "text/plain": [
       "tipo_transaccion\n",
       "transferencia    3370\n",
       "compra           3352\n",
       "retiro           3278\n",
       "Name: count, dtype: int64"
      ]
     },
     "execution_count": 4,
     "metadata": {},
     "output_type": "execute_result"
    }
   ],
   "source": [
    "df['tipo_transaccion'].value_counts()"
   ]
  },
  {
   "cell_type": "markdown",
   "id": "947b6817-f6e5-4b02-a389-bcfee954b2b7",
   "metadata": {},
   "source": [
    "### 2. Ordenar los datos por monto en orden descendente (top 10)"
   ]
  },
  {
   "cell_type": "code",
   "execution_count": 5,
   "id": "f70a374c-31c6-4c75-803b-347431dbf189",
   "metadata": {},
   "outputs": [
    {
     "data": {
      "text/html": [
       "<div>\n",
       "<style scoped>\n",
       "    .dataframe tbody tr th:only-of-type {\n",
       "        vertical-align: middle;\n",
       "    }\n",
       "\n",
       "    .dataframe tbody tr th {\n",
       "        vertical-align: top;\n",
       "    }\n",
       "\n",
       "    .dataframe thead th {\n",
       "        text-align: right;\n",
       "    }\n",
       "</style>\n",
       "<table border=\"1\" class=\"dataframe\">\n",
       "  <thead>\n",
       "    <tr style=\"text-align: right;\">\n",
       "      <th></th>\n",
       "      <th>id_transaccion</th>\n",
       "      <th>monto</th>\n",
       "      <th>tipo_transaccion</th>\n",
       "    </tr>\n",
       "  </thead>\n",
       "  <tbody>\n",
       "    <tr>\n",
       "      <th>3444</th>\n",
       "      <td>3445</td>\n",
       "      <td>49995.63</td>\n",
       "      <td>compra</td>\n",
       "    </tr>\n",
       "    <tr>\n",
       "      <th>5374</th>\n",
       "      <td>5375</td>\n",
       "      <td>49992.38</td>\n",
       "      <td>transferencia</td>\n",
       "    </tr>\n",
       "    <tr>\n",
       "      <th>3330</th>\n",
       "      <td>3331</td>\n",
       "      <td>49988.09</td>\n",
       "      <td>compra</td>\n",
       "    </tr>\n",
       "    <tr>\n",
       "      <th>6515</th>\n",
       "      <td>6516</td>\n",
       "      <td>49986.96</td>\n",
       "      <td>retiro</td>\n",
       "    </tr>\n",
       "    <tr>\n",
       "      <th>8904</th>\n",
       "      <td>8905</td>\n",
       "      <td>49981.24</td>\n",
       "      <td>compra</td>\n",
       "    </tr>\n",
       "    <tr>\n",
       "      <th>3697</th>\n",
       "      <td>3698</td>\n",
       "      <td>49981.06</td>\n",
       "      <td>retiro</td>\n",
       "    </tr>\n",
       "    <tr>\n",
       "      <th>6346</th>\n",
       "      <td>6347</td>\n",
       "      <td>49973.11</td>\n",
       "      <td>retiro</td>\n",
       "    </tr>\n",
       "    <tr>\n",
       "      <th>5681</th>\n",
       "      <td>5682</td>\n",
       "      <td>49965.07</td>\n",
       "      <td>retiro</td>\n",
       "    </tr>\n",
       "    <tr>\n",
       "      <th>3222</th>\n",
       "      <td>3223</td>\n",
       "      <td>49964.03</td>\n",
       "      <td>transferencia</td>\n",
       "    </tr>\n",
       "    <tr>\n",
       "      <th>7515</th>\n",
       "      <td>7516</td>\n",
       "      <td>49955.90</td>\n",
       "      <td>transferencia</td>\n",
       "    </tr>\n",
       "  </tbody>\n",
       "</table>\n",
       "</div>"
      ],
      "text/plain": [
       "      id_transaccion     monto tipo_transaccion\n",
       "3444            3445  49995.63           compra\n",
       "5374            5375  49992.38    transferencia\n",
       "3330            3331  49988.09           compra\n",
       "6515            6516  49986.96           retiro\n",
       "8904            8905  49981.24           compra\n",
       "3697            3698  49981.06           retiro\n",
       "6346            6347  49973.11           retiro\n",
       "5681            5682  49965.07           retiro\n",
       "3222            3223  49964.03    transferencia\n",
       "7515            7516  49955.90    transferencia"
      ]
     },
     "execution_count": 5,
     "metadata": {},
     "output_type": "execute_result"
    }
   ],
   "source": [
    "df.sort_values('monto', ascending=False)[['id_transaccion', 'monto', 'tipo_transaccion']].head(10)"
   ]
  },
  {
   "cell_type": "markdown",
   "id": "4181fac4-3093-4ffc-a688-c6da2d8665fc",
   "metadata": {},
   "source": [
    "### 3. Presentar todas las transacciones extranjeras (primeras 10)"
   ]
  },
  {
   "cell_type": "code",
   "execution_count": 6,
   "id": "9ce26694-543b-4905-a9cb-eb17db78cdae",
   "metadata": {},
   "outputs": [
    {
     "data": {
      "text/html": [
       "<div>\n",
       "<style scoped>\n",
       "    .dataframe tbody tr th:only-of-type {\n",
       "        vertical-align: middle;\n",
       "    }\n",
       "\n",
       "    .dataframe tbody tr th {\n",
       "        vertical-align: top;\n",
       "    }\n",
       "\n",
       "    .dataframe thead th {\n",
       "        text-align: right;\n",
       "    }\n",
       "</style>\n",
       "<table border=\"1\" class=\"dataframe\">\n",
       "  <thead>\n",
       "    <tr style=\"text-align: right;\">\n",
       "      <th></th>\n",
       "      <th>id_transaccion</th>\n",
       "      <th>ciudad</th>\n",
       "      <th>monto</th>\n",
       "      <th>tipo_transaccion</th>\n",
       "    </tr>\n",
       "  </thead>\n",
       "  <tbody>\n",
       "    <tr>\n",
       "      <th>2</th>\n",
       "      <td>3</td>\n",
       "      <td>Paris</td>\n",
       "      <td>30644.10</td>\n",
       "      <td>retiro</td>\n",
       "    </tr>\n",
       "    <tr>\n",
       "      <th>21</th>\n",
       "      <td>22</td>\n",
       "      <td>Madrid</td>\n",
       "      <td>4282.67</td>\n",
       "      <td>retiro</td>\n",
       "    </tr>\n",
       "    <tr>\n",
       "      <th>81</th>\n",
       "      <td>82</td>\n",
       "      <td>Brasil</td>\n",
       "      <td>38341.71</td>\n",
       "      <td>compra</td>\n",
       "    </tr>\n",
       "    <tr>\n",
       "      <th>151</th>\n",
       "      <td>152</td>\n",
       "      <td>Barcelona</td>\n",
       "      <td>13329.34</td>\n",
       "      <td>compra</td>\n",
       "    </tr>\n",
       "    <tr>\n",
       "      <th>181</th>\n",
       "      <td>182</td>\n",
       "      <td>Los Angeles</td>\n",
       "      <td>9605.27</td>\n",
       "      <td>retiro</td>\n",
       "    </tr>\n",
       "    <tr>\n",
       "      <th>221</th>\n",
       "      <td>222</td>\n",
       "      <td>Sidney</td>\n",
       "      <td>3196.42</td>\n",
       "      <td>compra</td>\n",
       "    </tr>\n",
       "    <tr>\n",
       "      <th>268</th>\n",
       "      <td>269</td>\n",
       "      <td>London</td>\n",
       "      <td>13032.16</td>\n",
       "      <td>transferencia</td>\n",
       "    </tr>\n",
       "    <tr>\n",
       "      <th>335</th>\n",
       "      <td>336</td>\n",
       "      <td>Bogota</td>\n",
       "      <td>36990.43</td>\n",
       "      <td>transferencia</td>\n",
       "    </tr>\n",
       "    <tr>\n",
       "      <th>442</th>\n",
       "      <td>443</td>\n",
       "      <td>Boston</td>\n",
       "      <td>44483.26</td>\n",
       "      <td>compra</td>\n",
       "    </tr>\n",
       "    <tr>\n",
       "      <th>498</th>\n",
       "      <td>499</td>\n",
       "      <td>Paris</td>\n",
       "      <td>22475.55</td>\n",
       "      <td>retiro</td>\n",
       "    </tr>\n",
       "  </tbody>\n",
       "</table>\n",
       "</div>"
      ],
      "text/plain": [
       "     id_transaccion       ciudad     monto tipo_transaccion\n",
       "2                 3        Paris  30644.10           retiro\n",
       "21               22       Madrid   4282.67           retiro\n",
       "81               82       Brasil  38341.71           compra\n",
       "151             152    Barcelona  13329.34           compra\n",
       "181             182  Los Angeles   9605.27           retiro\n",
       "221             222       Sidney   3196.42           compra\n",
       "268             269       London  13032.16    transferencia\n",
       "335             336       Bogota  36990.43    transferencia\n",
       "442             443       Boston  44483.26           compra\n",
       "498             499        Paris  22475.55           retiro"
      ]
     },
     "execution_count": 6,
     "metadata": {},
     "output_type": "execute_result"
    }
   ],
   "source": [
    "df[df['es_extranjera']][['id_transaccion', 'ciudad', 'monto', 'tipo_transaccion']].head(10)"
   ]
  },
  {
   "cell_type": "markdown",
   "id": "261e96d2-5735-4e15-af96-cdfc7ff9d9c4",
   "metadata": {},
   "source": [
    "### 4. ¿Está la ciudad \"Sudáfrica\" en la lista?"
   ]
  },
  {
   "cell_type": "code",
   "execution_count": 7,
   "id": "101c0c59-4312-41e3-bca5-1e68bdbca82c",
   "metadata": {},
   "outputs": [
    {
     "data": {
      "text/plain": [
       "'No'"
      ]
     },
     "execution_count": 7,
     "metadata": {},
     "output_type": "execute_result"
    }
   ],
   "source": [
    "sudafrica_presente = df['ciudad'].str.contains(r'Sud[áa]frica', case=False, na=False).any()\n",
    "\"Sí\" if sudafrica_presente else \"No\""
   ]
  },
  {
   "cell_type": "markdown",
   "id": "02ed97c9-a7ad-423d-bd55-ed90c934f821",
   "metadata": {},
   "source": [
    "### 5. ¿Cuál es la cantidad promedio que se retira?"
   ]
  },
  {
   "cell_type": "code",
   "execution_count": 9,
   "id": "b717d46d-8ad3-4160-808b-44cd5cff23b1",
   "metadata": {},
   "outputs": [
    {
     "data": {
      "text/plain": [
       "24861.527211714467"
      ]
     },
     "execution_count": 9,
     "metadata": {},
     "output_type": "execute_result"
    }
   ],
   "source": [
    "retiros = df[df['tipo_transaccion'] == 'retiro']\n",
    "retiros['monto'].mean()"
   ]
  },
  {
   "cell_type": "markdown",
   "id": "629d70ae-9a38-4ecd-8b30-2a49fbed19cb",
   "metadata": {},
   "source": [
    "### 6. ¿Cuál ha sido el retiro mayor?"
   ]
  },
  {
   "cell_type": "code",
   "execution_count": 10,
   "id": "ccdfd363-1936-49ce-87bc-94675199ab6d",
   "metadata": {},
   "outputs": [
    {
     "data": {
      "text/plain": [
       "49986.96"
      ]
     },
     "execution_count": 10,
     "metadata": {},
     "output_type": "execute_result"
    }
   ],
   "source": [
    "retiros['monto'].max()"
   ]
  },
  {
   "cell_type": "markdown",
   "id": "bbafc7a1-e1be-47fd-9feb-df72829ddc6e",
   "metadata": {},
   "source": [
    "### 7. ¿Cuántos depósitos están entre 20,000 y 35,000?\n",
    "\n",
    "**Nota**: El dataset no contiene transacciones de tipo \"depósito\".  \n",
    "Se asume que el profesor se refiere a \"transferencia\" como operación de entrada de fondos."
   ]
  },
  {
   "cell_type": "code",
   "execution_count": 11,
   "id": "ed350aed-264f-4a86-a7ed-96f5d21118fd",
   "metadata": {},
   "outputs": [
    {
     "data": {
      "text/plain": [
       "974"
      ]
     },
     "execution_count": 11,
     "metadata": {},
     "output_type": "execute_result"
    }
   ],
   "source": [
    "transferencias = df[df['tipo_transaccion'] == 'transferencia']\n",
    "en_rango = transferencias[(transferencias['monto'] >= 20000) & (transferencias['monto'] <= 35000)]\n",
    "len(en_rango)"
   ]
  },
  {
   "cell_type": "markdown",
   "id": "55ab69ca-3bfb-4492-bcc7-bb0acaa74595",
   "metadata": {},
   "source": [
    "### 8. Agrupar los datos por tipo de divisa"
   ]
  },
  {
   "cell_type": "code",
   "execution_count": 12,
   "id": "73e497a4-2959-43d3-8042-3b8b99605652",
   "metadata": {},
   "outputs": [
    {
     "data": {
      "text/html": [
       "<div>\n",
       "<style scoped>\n",
       "    .dataframe tbody tr th:only-of-type {\n",
       "        vertical-align: middle;\n",
       "    }\n",
       "\n",
       "    .dataframe tbody tr th {\n",
       "        vertical-align: top;\n",
       "    }\n",
       "\n",
       "    .dataframe thead th {\n",
       "        text-align: right;\n",
       "    }\n",
       "</style>\n",
       "<table border=\"1\" class=\"dataframe\">\n",
       "  <thead>\n",
       "    <tr style=\"text-align: right;\">\n",
       "      <th></th>\n",
       "      <th>total_transacciones</th>\n",
       "      <th>monto_promedio</th>\n",
       "      <th>monto_total</th>\n",
       "    </tr>\n",
       "    <tr>\n",
       "      <th>divisa</th>\n",
       "      <th></th>\n",
       "      <th></th>\n",
       "      <th></th>\n",
       "    </tr>\n",
       "  </thead>\n",
       "  <tbody>\n",
       "    <tr>\n",
       "      <th>EUR</th>\n",
       "      <td>3334</td>\n",
       "      <td>25004.84</td>\n",
       "      <td>83366124.01</td>\n",
       "    </tr>\n",
       "    <tr>\n",
       "      <th>MXN</th>\n",
       "      <td>3325</td>\n",
       "      <td>24690.18</td>\n",
       "      <td>82094846.65</td>\n",
       "    </tr>\n",
       "    <tr>\n",
       "      <th>USD</th>\n",
       "      <td>3341</td>\n",
       "      <td>24848.67</td>\n",
       "      <td>83019394.70</td>\n",
       "    </tr>\n",
       "  </tbody>\n",
       "</table>\n",
       "</div>"
      ],
      "text/plain": [
       "        total_transacciones  monto_promedio  monto_total\n",
       "divisa                                                  \n",
       "EUR                    3334        25004.84  83366124.01\n",
       "MXN                    3325        24690.18  82094846.65\n",
       "USD                    3341        24848.67  83019394.70"
      ]
     },
     "execution_count": 12,
     "metadata": {},
     "output_type": "execute_result"
    }
   ],
   "source": [
    "df.groupby('divisa').agg(\n",
    "    total_transacciones=('monto', 'size'),\n",
    "    monto_promedio=('monto', 'mean'),\n",
    "    monto_total=('monto', 'sum')\n",
    ").round(2)"
   ]
  },
  {
   "cell_type": "markdown",
   "id": "17efceed-9f51-4f33-85a2-6fe02eac04dc",
   "metadata": {},
   "source": [
    "### 9. Cambiar las divisas de euros a dólares\n",
    "\n",
    "Se reemplaza la etiqueta \"EUR\" por \"USD\" en la columna `divisa`, **sin modificar los montos**."
   ]
  },
  {
   "cell_type": "code",
   "execution_count": 14,
   "id": "9d2f27db-6260-43be-94be-0e947551d62e",
   "metadata": {},
   "outputs": [
    {
     "data": {
      "text/html": [
       "<div>\n",
       "<style scoped>\n",
       "    .dataframe tbody tr th:only-of-type {\n",
       "        vertical-align: middle;\n",
       "    }\n",
       "\n",
       "    .dataframe tbody tr th {\n",
       "        vertical-align: top;\n",
       "    }\n",
       "\n",
       "    .dataframe thead th {\n",
       "        text-align: right;\n",
       "    }\n",
       "</style>\n",
       "<table border=\"1\" class=\"dataframe\">\n",
       "  <thead>\n",
       "    <tr style=\"text-align: right;\">\n",
       "      <th></th>\n",
       "      <th>id_transaccion</th>\n",
       "      <th>monto</th>\n",
       "      <th>divisa</th>\n",
       "    </tr>\n",
       "  </thead>\n",
       "  <tbody>\n",
       "    <tr>\n",
       "      <th>6</th>\n",
       "      <td>7</td>\n",
       "      <td>132.42</td>\n",
       "      <td>USD</td>\n",
       "    </tr>\n",
       "    <tr>\n",
       "      <th>8</th>\n",
       "      <td>9</td>\n",
       "      <td>41811.10</td>\n",
       "      <td>USD</td>\n",
       "    </tr>\n",
       "    <tr>\n",
       "      <th>11</th>\n",
       "      <td>12</td>\n",
       "      <td>35360.16</td>\n",
       "      <td>USD</td>\n",
       "    </tr>\n",
       "    <tr>\n",
       "      <th>13</th>\n",
       "      <td>14</td>\n",
       "      <td>48485.84</td>\n",
       "      <td>USD</td>\n",
       "    </tr>\n",
       "    <tr>\n",
       "      <th>16</th>\n",
       "      <td>17</td>\n",
       "      <td>41277.81</td>\n",
       "      <td>USD</td>\n",
       "    </tr>\n",
       "  </tbody>\n",
       "</table>\n",
       "</div>"
      ],
      "text/plain": [
       "    id_transaccion     monto divisa\n",
       "6                7    132.42    USD\n",
       "8                9  41811.10    USD\n",
       "11              12  35360.16    USD\n",
       "13              14  48485.84    USD\n",
       "16              17  41277.81    USD"
      ]
     },
     "execution_count": 14,
     "metadata": {},
     "output_type": "execute_result"
    }
   ],
   "source": [
    "df_p9 = df.copy()\n",
    "df_p9['divisa'] = df_p9['divisa'].replace('EUR', 'USD')\n",
    "\n",
    "# Mostrar ejemplo\n",
    "df_p9[df['divisa'] == 'EUR'][['id_transaccion', 'monto', 'divisa']].head()"
   ]
  }
 ],
 "metadata": {
  "kernelspec": {
   "display_name": "Python 3 (ipykernel)",
   "language": "python",
   "name": "python3"
  },
  "language_info": {
   "codemirror_mode": {
    "name": "ipython",
    "version": 3
   },
   "file_extension": ".py",
   "mimetype": "text/x-python",
   "name": "python",
   "nbconvert_exporter": "python",
   "pygments_lexer": "ipython3",
   "version": "3.11.2"
  }
 },
 "nbformat": 4,
 "nbformat_minor": 5
}
